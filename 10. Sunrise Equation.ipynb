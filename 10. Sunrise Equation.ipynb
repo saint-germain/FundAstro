{
 "cells": [
  {
   "cell_type": "markdown",
   "metadata": {},
   "source": [
    "https://en.wikipedia.org/wiki/Sunrise_equation"
   ]
  },
  {
   "cell_type": "code",
   "execution_count": null,
   "metadata": {
    "collapsed": true
   },
   "outputs": [],
   "source": [
    "import numpy as np"
   ]
  },
  {
   "cell_type": "code",
   "execution_count": null,
   "metadata": {
    "collapsed": true
   },
   "outputs": [],
   "source": [
    "Y = 2020\n",
    "M = 11\n",
    "D = 9"
   ]
  },
  {
   "cell_type": "code",
   "execution_count": null,
   "metadata": {
    "collapsed": true
   },
   "outputs": [],
   "source": [
    "# longitude of an observer (Medellin)\n",
    "lw = -75.5658"
   ]
  },
  {
   "cell_type": "code",
   "execution_count": null,
   "metadata": {
    "collapsed": true
   },
   "outputs": [],
   "source": [
    "# latitude of an observer (Medellin)\n",
    "phi=6.2476"
   ]
  },
  {
   "cell_type": "code",
   "execution_count": null,
   "metadata": {
    "collapsed": true
   },
   "outputs": [],
   "source": [
    "JDN = (1461 * (Y + 4800 + (M - 14)//12))//4 +(367 * (M - 2 - 12 * ((M - 14)//12)))//12 - \\\n",
    "     (3 * ((Y + 4900 + (M - 14)//12)//100))//4 + D - 32075"
   ]
  },
  {
   "cell_type": "code",
   "execution_count": null,
   "metadata": {},
   "outputs": [],
   "source": [
    "JDN # in days"
   ]
  },
  {
   "cell_type": "code",
   "execution_count": null,
   "metadata": {},
   "outputs": [],
   "source": [
    "# number of days since Jan 1st, 2000 12:00. (J2000)\n",
    "n=JDN-2451545.0-0.0008\n",
    "n # in days"
   ]
  },
  {
   "cell_type": "code",
   "execution_count": null,
   "metadata": {},
   "outputs": [],
   "source": [
    "# approximation of mean solar time at n expressed as a Julian day with the day fraction.\n",
    "Jstar=n-lw/360\n",
    "Jstar # in days"
   ]
  },
  {
   "cell_type": "code",
   "execution_count": null,
   "metadata": {},
   "outputs": [],
   "source": [
    "# solar mean anomaly \n",
    "M=(357.5291+0.98560028*Jstar)%360\n",
    "M # in degrees"
   ]
  },
  {
   "cell_type": "code",
   "execution_count": null,
   "metadata": {},
   "outputs": [],
   "source": [
    "# equation of the center (Earth)\n",
    "# angular difference between the actual position of a body in its elliptical orbit \n",
    "# and the position it would occupy if its motion were uniform (circular orbit)\n",
    "Mrad=M*np.pi/180 # in radians\n",
    "C=1.9148*np.sin(Mrad)+0.02*np.sin(2*Mrad)+0.0003*np.sin(3*Mrad)\n",
    "C # in degrees"
   ]
  },
  {
   "cell_type": "code",
   "execution_count": null,
   "metadata": {},
   "outputs": [],
   "source": [
    "# ecliptic longitude (depends on argument of perihelion)\n",
    "lam=(M+C+180+102.9372)%360\n",
    "lam # in degrees"
   ]
  },
  {
   "cell_type": "code",
   "execution_count": null,
   "metadata": {},
   "outputs": [],
   "source": [
    "# true solar noon Julian date\n",
    "# depends on equation of time (discrepancy between mean sun and apparent solar time)\n",
    "lamrad=lam*np.pi/180\n",
    "Jtransit=2451545.0+Jstar+0.0053*np.sin(Mrad)-0.0069*np.sin(2*lamrad)\n",
    "Jtransit # in days"
   ]
  },
  {
   "cell_type": "code",
   "execution_count": null,
   "metadata": {},
   "outputs": [],
   "source": [
    "# declination of the Sun (including axial tilt)\n",
    "sind=np.sin(lamrad)*np.sin(23.44*np.pi/180)\n",
    "sind # no units"
   ]
  },
  {
   "cell_type": "code",
   "execution_count": null,
   "metadata": {},
   "outputs": [],
   "source": [
    "np.arcsin(sind)*180/np.pi"
   ]
  },
  {
   "cell_type": "code",
   "execution_count": null,
   "metadata": {},
   "outputs": [],
   "source": [
    "# hour angle (includes correction for refraction and size of solar disc)\n",
    "cosom=(np.sin(-0.83*np.pi/180)-np.sin(phi*np.pi/180)*sind)/(np.cos(phi*np.pi/180)*(1-sind**2)**(1/2))\n",
    "cosom"
   ]
  },
  {
   "cell_type": "code",
   "execution_count": null,
   "metadata": {},
   "outputs": [],
   "source": [
    "np.arccos(cosom)*180/np.pi"
   ]
  },
  {
   "cell_type": "code",
   "execution_count": null,
   "metadata": {},
   "outputs": [],
   "source": [
    "Jrise=Jtransit-np.arccos(cosom)/(2*np.pi)\n",
    "Jrise"
   ]
  },
  {
   "cell_type": "code",
   "execution_count": null,
   "metadata": {},
   "outputs": [],
   "source": [
    "time=Jrise-int(Jrise)\n",
    "time"
   ]
  },
  {
   "cell_type": "code",
   "execution_count": null,
   "metadata": {},
   "outputs": [],
   "source": [
    "hour=time*24-12 # julian day begins at noon\n",
    "int(hour) # in UTC"
   ]
  },
  {
   "cell_type": "code",
   "execution_count": null,
   "metadata": {},
   "outputs": [],
   "source": [
    "# Colombian time zone is UTC-5\n",
    "int(hour)-5"
   ]
  },
  {
   "cell_type": "code",
   "execution_count": null,
   "metadata": {},
   "outputs": [],
   "source": [
    "minutes=(hour-int(hour))*60\n",
    "int(minutes)"
   ]
  },
  {
   "cell_type": "code",
   "execution_count": null,
   "metadata": {},
   "outputs": [],
   "source": [
    "seconds=(minutes-int(minutes))*60\n",
    "int(seconds)"
   ]
  },
  {
   "cell_type": "code",
   "execution_count": null,
   "metadata": {},
   "outputs": [],
   "source": [
    "# no atmospheric correction\n",
    "cosom2=-np.tan(phi*np.pi/180)*sind/(1-sind**2)**(1/2)"
   ]
  },
  {
   "cell_type": "code",
   "execution_count": null,
   "metadata": {},
   "outputs": [],
   "source": [
    "Jrise2=Jtransit-np.arccos(cosom2)/(2*np.pi)\n",
    "Jrise2"
   ]
  },
  {
   "cell_type": "code",
   "execution_count": null,
   "metadata": {},
   "outputs": [],
   "source": [
    "Jrise"
   ]
  },
  {
   "cell_type": "code",
   "execution_count": null,
   "metadata": {},
   "outputs": [],
   "source": [
    "time=Jrise2-int(Jrise2)\n",
    "hour=time*24-12 # julian day begins at noon\n",
    "int(hour) # in UTC"
   ]
  },
  {
   "cell_type": "code",
   "execution_count": null,
   "metadata": {},
   "outputs": [],
   "source": [
    "minutes=(hour-int(hour))*60\n",
    "int(minutes)"
   ]
  },
  {
   "cell_type": "code",
   "execution_count": null,
   "metadata": {},
   "outputs": [],
   "source": [
    "seconds=(minutes-int(minutes))*60\n",
    "int(seconds)"
   ]
  },
  {
   "cell_type": "code",
   "execution_count": null,
   "metadata": {
    "collapsed": true
   },
   "outputs": [],
   "source": []
  }
 ],
 "metadata": {
  "kernelspec": {
   "display_name": "Python 3",
   "language": "python",
   "name": "python3"
  },
  "language_info": {
   "codemirror_mode": {
    "name": "ipython",
    "version": 3
   },
   "file_extension": ".py",
   "mimetype": "text/x-python",
   "name": "python",
   "nbconvert_exporter": "python",
   "pygments_lexer": "ipython3",
   "version": "3.5.6"
  }
 },
 "nbformat": 4,
 "nbformat_minor": 2
}
