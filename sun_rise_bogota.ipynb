{
 "cells": [
  {
   "cell_type": "code",
   "execution_count": 31,
   "metadata": {},
   "outputs": [],
   "source": [
    "from astroplan import Observer\n",
    "from astropy.time import Time\n",
    "from astropy.time import TimeDelta\n",
    "from astropy.coordinates import EarthLocation\n",
    "import astropy.units as u"
   ]
  },
  {
   "cell_type": "code",
   "execution_count": null,
   "metadata": {},
   "outputs": [],
   "source": [
    "from astroplan import download_IERS_A\n",
    "download_IERS_A()"
   ]
  },
  {
   "cell_type": "code",
   "execution_count": 51,
   "metadata": {},
   "outputs": [],
   "source": [
    "import numpy as np"
   ]
  },
  {
   "cell_type": "code",
   "execution_count": 45,
   "metadata": {},
   "outputs": [],
   "source": [
    "location = EarthLocation.from_geodetic(-74.0721*u.deg, 4.7110*u.deg)\n",
    "bogota = Observer(location=location, name=\"Bogota\")\n",
    "utcoffset = 5*u.hour"
   ]
  },
  {
   "cell_type": "code",
   "execution_count": 47,
   "metadata": {},
   "outputs": [],
   "source": [
    "dt = TimeDelta(1.0, format='jd')"
   ]
  },
  {
   "cell_type": "code",
   "execution_count": 48,
   "metadata": {},
   "outputs": [],
   "source": [
    "time = Time.now()\n",
    "pos=[]\n",
    "tim=[]\n",
    "for i in range(365):\n",
    "    time+=dt\n",
    "    sun_rise = bogota.sun_rise_time(time, which=\"previous\")\n",
    "    position=bogota.sun_altaz(sun_rise)\n",
    "    sun_rise_az=float(position.az/u.deg)\n",
    "    pos+=[sun_rise_az]\n",
    "    tim+=[(sun_rise-utcoffset).iso]"
   ]
  },
  {
   "cell_type": "code",
   "execution_count": 52,
   "metadata": {},
   "outputs": [
    {
     "data": {
      "text/plain": [
       "47.041278443203936"
      ]
     },
     "execution_count": 52,
     "metadata": {},
     "output_type": "execute_result"
    }
   ],
   "source": [
    "# variacion anual angular de la salida del sol (en grados)\n",
    "# no tiene en cuenta los cerros\n",
    "np.max(pos)-np.min(pos)"
   ]
  },
  {
   "cell_type": "code",
   "execution_count": null,
   "metadata": {},
   "outputs": [],
   "source": []
  }
 ],
 "metadata": {
  "kernelspec": {
   "display_name": "Python 3",
   "language": "python",
   "name": "python3"
  },
  "language_info": {
   "codemirror_mode": {
    "name": "ipython",
    "version": 3
   },
   "file_extension": ".py",
   "mimetype": "text/x-python",
   "name": "python",
   "nbconvert_exporter": "python",
   "pygments_lexer": "ipython3",
   "version": "3.7.6"
  }
 },
 "nbformat": 4,
 "nbformat_minor": 4
}
